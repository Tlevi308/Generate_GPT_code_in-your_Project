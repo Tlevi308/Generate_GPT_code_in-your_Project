{
  "nbformat": 4,
  "nbformat_minor": 0,
  "metadata": {
    "colab": {
      "provenance": []
    },
    "kernelspec": {
      "name": "python3",
      "display_name": "Python 3"
    },
    "language_info": {
      "name": "python"
    }
  },
  "cells": [
    {
      "cell_type": "markdown",
      "source": [
        "# Installing Open AI packages"
      ],
      "metadata": {
        "id": "tkYaUnxrI1so"
      }
    },
    {
      "cell_type": "code",
      "source": [
        "pip install openai"
      ],
      "metadata": {
        "id": "gpxOJwl2hlHm"
      },
      "execution_count": null,
      "outputs": []
    },
    {
      "cell_type": "markdown",
      "source": [
        "# Importing"
      ],
      "metadata": {
        "id": "wXBQY9-6JPi8"
      }
    },
    {
      "cell_type": "code",
      "execution_count": 25,
      "metadata": {
        "id": "PzH2ySEMhYE4"
      },
      "outputs": [],
      "source": [
        "import openai"
      ]
    },
    {
      "cell_type": "markdown",
      "source": [
        "# Create API key from Open AI websit"
      ],
      "metadata": {
        "id": "gxcvN8-4Jp4M"
      }
    },
    {
      "cell_type": "code",
      "source": [
        "OPENAI_API_KEY = 'PUT YOUR API KAY HERE'"
      ],
      "metadata": {
        "id": "aIswgOWRjpzW"
      },
      "execution_count": 26,
      "outputs": []
    },
    {
      "cell_type": "markdown",
      "source": [
        "# Create a Function based on Open AI Documentation \n",
        "\n",
        "The function get text as a prompt to GPT and print the response from the engine"
      ],
      "metadata": {
        "id": "LAXeG1t0KBjX"
      }
    },
    {
      "cell_type": "code",
      "source": [
        "from openai.api_resources import engine\n",
        "def ask_god(text_question):\n",
        "  openai.api_key = OPENAI_API_KEY \n",
        "  respons = openai.Completion.create(\n",
        "      engine = \"text-davinci-003\",\n",
        "      prompt = text_question,\n",
        "      temperature = 0.7,\n",
        "      max_tokens = 1000,\n",
        "      top_p = 1,\n",
        "      frequency_penalty = 0,\n",
        "      presence_penalty = 0\n",
        "\n",
        "  )\n",
        "  content = respons.choices[0].text\n",
        "  print(content)\n",
        "  return "
      ],
      "metadata": {
        "id": "4ZpEuaqcjKe1"
      },
      "execution_count": 35,
      "outputs": []
    },
    {
      "cell_type": "markdown",
      "source": [
        "## Example"
      ],
      "metadata": {
        "id": "4RI_T-F4LKgN"
      }
    },
    {
      "cell_type": "code",
      "source": [
        "query = 'what is the capital city in Israel ?'\n",
        "ask_god(query)"
      ],
      "metadata": {
        "colab": {
          "base_uri": "https://localhost:8080/"
        },
        "id": "qqua9jJsjypK",
        "outputId": "3a667a78-b39f-4bcf-e307-4c00e0d87396"
      },
      "execution_count": 37,
      "outputs": [
        {
          "output_type": "stream",
          "name": "stdout",
          "text": [
            "\n",
            "\n",
            "Jerusalem is the capital city of Israel.\n"
          ]
        }
      ]
    },
    {
      "cell_type": "code",
      "source": [
        "ask_god('What is the bast way to talk to you?')"
      ],
      "metadata": {
        "colab": {
          "base_uri": "https://localhost:8080/"
        },
        "id": "QNVWG9KAEU0s",
        "outputId": "26cf07d6-3379-4d2e-ac06-84e78ad14805"
      },
      "execution_count": 39,
      "outputs": [
        {
          "output_type": "stream",
          "name": "stdout",
          "text": [
            "\n",
            "\n",
            "The best way to talk to me is to be respectful and polite. Showing genuine interest in what I have to say and being open to hearing my point of view will help create a positive conversation.\n"
          ]
        }
      ]
    },
    {
      "cell_type": "code",
      "source": [],
      "metadata": {
        "id": "okBrj7SSLiJs"
      },
      "execution_count": null,
      "outputs": []
    }
  ]
}